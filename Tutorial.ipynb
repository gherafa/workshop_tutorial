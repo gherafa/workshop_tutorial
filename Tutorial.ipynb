{
 "cells": [
  {
   "cell_type": "markdown",
   "id": "cfdd24a0",
   "metadata": {},
   "source": [
    "# Variables and Data Types\n",
    "    Variable is a container for storing data values.\n",
    "    x=5\n",
    "\n",
    "### Integer \n",
    "    Integer is a whole number from the set of negative, non-negative, positive, and 0 number.\n",
    "    E.g. 0 -1 20 100 \n",
    "### String\n",
    "    String is a data type that contain not just number but also other characters (possibly mixed with numbers)\n",
    "    E.g. \"Python\" \"Tutorial\" \"Gheo123\"\n",
    "### Float \n",
    "    Float is a data type that is used to store floating-point number values.\n",
    "    E.g. 0.01 0.325 -0.25\n",
    "### Boolean\n",
    "    Boolean is one of Python's built-in data types. It is used to represent the truth value of an expression.\n",
    "    E.g. True False\n",
    "    \n",
    "### Comment\n",
    "    #\n",
    "    Use to prevent execution on the particular row."
   ]
  },
  {
   "cell_type": "markdown",
   "id": "23a05bec",
   "metadata": {},
   "source": [
    "### Run a simple program to print (Hello, welcome to Python tutorial !)"
   ]
  },
  {
   "cell_type": "code",
   "execution_count": null,
   "id": "3ef686b4",
   "metadata": {},
   "outputs": [],
   "source": [
    "#this line will not be executed\n",
    "print(\"Hello, welcome to Python tutorial!\")"
   ]
  },
  {
   "cell_type": "markdown",
   "id": "26a062ae",
   "metadata": {},
   "source": [
    "### Difference between integer, string, float numbers"
   ]
  },
  {
   "cell_type": "code",
   "execution_count": null,
   "id": "0a9eb50c",
   "metadata": {},
   "outputs": [],
   "source": [
    "int(0),str(\"0\"),float(0.01)"
   ]
  },
  {
   "cell_type": "markdown",
   "id": "5a10dc59",
   "metadata": {},
   "source": [
    "### Declare several variables\n",
    "    Variable name = value"
   ]
  },
  {
   "cell_type": "code",
   "execution_count": null,
   "id": "e2e9cdb7",
   "metadata": {},
   "outputs": [],
   "source": [
    "x = 6\n",
    "y = 2\n",
    "Name = 'This '\n",
    "name = 'is '\n",
    "NAME = 'Python '\n",
    "namE = 'Tutorial'"
   ]
  },
  {
   "cell_type": "markdown",
   "id": "7fbb8e07",
   "metadata": {},
   "source": [
    "### Print to check the value of the variable declared earlier"
   ]
  },
  {
   "cell_type": "code",
   "execution_count": null,
   "id": "36ecf907",
   "metadata": {},
   "outputs": [],
   "source": [
    "print(x)\n",
    "print(y)\n",
    "print(Name)\n",
    "print(name)\n",
    "print(NAME)\n",
    "print(namE)"
   ]
  },
  {
   "cell_type": "markdown",
   "id": "32ee2c7d",
   "metadata": {},
   "source": [
    "# Input and Operators"
   ]
  },
  {
   "cell_type": "code",
   "execution_count": null,
   "id": "12af509a",
   "metadata": {
    "scrolled": true
   },
   "outputs": [],
   "source": [
    "print('What is Your name?')\n",
    "\n",
    "Input_name = input()\n",
    "\n",
    "print(\"Hello {}, welcome to this Python Tutorial :)\".format(Input_name))"
   ]
  },
  {
   "cell_type": "markdown",
   "id": "b74f9298",
   "metadata": {},
   "source": [
    "### Operators in Python\n",
    "    Addition + \n",
    "    Substraction - \n",
    "    Division / \n",
    "    Multiplication *\n",
    "    Floor Division // \n",
    "    Modulus % \n",
    "    Exponentiation ** "
   ]
  },
  {
   "cell_type": "code",
   "execution_count": null,
   "id": "f24da7d1",
   "metadata": {},
   "outputs": [],
   "source": [
    "x = 200\n",
    "y = 2\n",
    "\n",
    "print(\"Addition\", x+y)\n",
    "print(\"Substraction\", x-y)\n",
    "print(\"Multiplication\", x*y)\n",
    "print(\"Division\", x/y)\n",
    "print(\"Exponentiation\", x**y)\n",
    "print(\"Floor Division\", x//y)\n",
    "print(\"Modulus\", x % y)"
   ]
  },
  {
   "cell_type": "markdown",
   "id": "fa73f08e",
   "metadata": {},
   "source": [
    "### Example of using input and operators for simple addition"
   ]
  },
  {
   "cell_type": "code",
   "execution_count": null,
   "id": "a0057546",
   "metadata": {},
   "outputs": [],
   "source": [
    "print('Enter a number: ')\n",
    "num1 = input()\n",
    "print('Enter another number: ')\n",
    "num2 = input()\n",
    "\n",
    "Sum = num1 + num2\n",
    "print(Sum)\n",
    "print(type(num1))\n",
    "SUM = int(num1)+int(num2)\n",
    "print(\"Result = \", SUM)"
   ]
  },
  {
   "cell_type": "markdown",
   "id": "43308049",
   "metadata": {},
   "source": [
    "# Conditions\n",
    "\n",
    "### Type of Condition in Python\n",
    "    < bigger\n",
    "    > smaller\n",
    "    == equal\n",
    "    != not equal"
   ]
  },
  {
   "cell_type": "code",
   "execution_count": null,
   "id": "3e105313",
   "metadata": {},
   "outputs": [],
   "source": [
    "print(1 > 2)"
   ]
  },
  {
   "cell_type": "markdown",
   "id": "bef998d6",
   "metadata": {},
   "source": [
    "### Now try write a code using another condition"
   ]
  },
  {
   "cell_type": "code",
   "execution_count": null,
   "id": "8e4e7004",
   "metadata": {},
   "outputs": [],
   "source": []
  },
  {
   "cell_type": "markdown",
   "id": "b77232d5",
   "metadata": {},
   "source": [
    "### Simple Python condition structure\n",
    "    1. if condition1 == True:\n",
    "           do this\n",
    "       else:\n",
    "           pass\n",
    "\n",
    "\n",
    "    2. if condition1 == True:\n",
    "           do this\n",
    "       elif condition2 == True:\n",
    "           do that\n",
    "       else:\n",
    "           pass"
   ]
  },
  {
   "cell_type": "markdown",
   "id": "49aaf739",
   "metadata": {},
   "source": [
    "### Example\n",
    "    Input weight(any number), replace the \"#number\" with any number.\n",
    "    If the condition 1 satisfied Python will print the first sentences.\n",
    "    If the condition 2 satisfied Python will print the second sentences.\n",
    "    Python will print the sentences that we declare in (else:) if there are no conditions satisfied."
   ]
  },
  {
   "cell_type": "code",
   "execution_count": null,
   "id": "e203f101",
   "metadata": {},
   "outputs": [],
   "source": [
    "#weight = int(input('Enter your weight: '))\n",
    "weight = 75\n",
    "\n",
    "\n",
    "if weight < 40:\n",
    "    print('Excuse me but, are you allright?')\n",
    "elif weight > 80:\n",
    "    print('Perhaps, you need to holdback from something, eating maybe :)')\n",
    "else:\n",
    "    print('Good Job!')"
   ]
  },
  {
   "cell_type": "markdown",
   "id": "2f8143f2",
   "metadata": {},
   "source": [
    "### Chained Conditions\n",
    "    if condition1 == True or condition2 == True:\n",
    "        do this\n",
    "        \n",
    "    if condition1 == True and condition2 == True:\n",
    "        do this"
   ]
  },
  {
   "cell_type": "code",
   "execution_count": null,
   "id": "31678381",
   "metadata": {},
   "outputs": [],
   "source": [
    "x = 0\n",
    "y = 2\n",
    "z = 9\n",
    "\n",
    "if x == y or x%2 == 1:\n",
    "    print('True')\n",
    "else:\n",
    "    print('false')\n",
    "    \n",
    "if x != z and z%2 ==1:\n",
    "    print('True')\n",
    "else:\n",
    "    print('false')"
   ]
  },
  {
   "cell_type": "markdown",
   "id": "51bc1ad8",
   "metadata": {},
   "source": [
    "# Lists and Tuples\n",
    "\n",
    "### List\n",
    "    is a sequence data type that can contain multiple items with different data types.\n",
    "    List is muttable. Means we can add, remove items inside the list.\n",
    "    List example [1,2,3,\"python\",4,5,6,\"Tutorial\"]\n",
    "        index     0,1,2,    3   ,4,5,6,    7\n",
    "    \n",
    "    List.append(item)\n",
    "    List.remove(item)\n",
    "    List.pop(index_of_the_item_we_want_to_remove)\n",
    "    \n",
    "### Tuple\n",
    "    is also a sequence data type that can contain multiple elements with different data types.\n",
    "    Tuple is immutable. Means items inside the tuple cannot be reassigned or deleted.\n",
    "    Tuple example (1,2,3,\"python\",\"tutorial\")\n",
    "    \n",
    "### Several Python Functions that can be applied to both of the data structure\n",
    "    max()     ---> return the highest value item in the data structure.\n",
    "    min()     ---> return the lowest value item in the data structure.\n",
    "    len()     ---> return the number of the items in the data structure.\n",
    "    any()     ---> check if any of the items in the data structure are True.\n",
    "    sorted()  ---> return the sorted list of the specified iterable object.\n",
    "                   (Does not work if the data structure contains both numeric values and string values.\n",
    "    sum()     ---> return a number, sum of all the items in the specified iterable object."
   ]
  },
  {
   "cell_type": "markdown",
   "id": "f56a271a",
   "metadata": {},
   "source": [
    "### Declare a List "
   ]
  },
  {
   "cell_type": "code",
   "execution_count": null,
   "id": "1a510ff2",
   "metadata": {},
   "outputs": [],
   "source": [
    "word_list = ['This','is','Python','Tutorial']\n",
    "print(word_list)\n",
    "print(word_list[0])\n",
    "print(len(word_list))"
   ]
  },
  {
   "cell_type": "markdown",
   "id": "a8d1c547",
   "metadata": {},
   "source": [
    "### Add item To the List"
   ]
  },
  {
   "cell_type": "code",
   "execution_count": null,
   "id": "23a55050",
   "metadata": {},
   "outputs": [],
   "source": [
    "word_list.append('For You')\n",
    "print(word_list)"
   ]
  },
  {
   "cell_type": "markdown",
   "id": "363576e4",
   "metadata": {},
   "source": [
    "### Removing Item from the list\n",
    "    list.pop()    ----> To remove an item based on its index.\n",
    "    list.remove() ----> To remove an item based on its value."
   ]
  },
  {
   "cell_type": "code",
   "execution_count": null,
   "id": "608efe90",
   "metadata": {},
   "outputs": [],
   "source": [
    "word_list.pop(1)\n",
    "print(word_list)\n",
    "word_list.remove('Tutorial')\n",
    "print(word_list)"
   ]
  },
  {
   "cell_type": "markdown",
   "id": "25a58904",
   "metadata": {},
   "source": [
    "### Declare a Tuple "
   ]
  },
  {
   "cell_type": "markdown",
   "id": "c40a6346",
   "metadata": {},
   "source": [
    "word_tuple = (1,2,3,4,5)\n",
    "print(word_tuple[2])\n",
    "print(min(word_tuple))\n",
    "print(max(word_tuple))"
   ]
  },
  {
   "cell_type": "markdown",
   "id": "ada08a34",
   "metadata": {},
   "source": [
    "# Loops\n",
    "\n",
    "### Loop in Python using for loop\n",
    "    for any_variable in range(start,stop,step)\n",
    "    loop using declared range, or loop using the index of the items inside a list.\n",
    "    \n",
    "\n",
    "    for i in range(10): #in a range to 10, 0,1,2,3,...,9 \n",
    "\n",
    "    for x in range(0, 10): #in range from 0 to 10\n",
    "\n",
    "    for try in range(0, 10, 2): #in range from 0 to 10 with a step of 2"
   ]
  },
  {
   "cell_type": "code",
   "execution_count": null,
   "id": "d778d3d9",
   "metadata": {},
   "outputs": [],
   "source": [
    "for i in range(0,10,2):\n",
    "    print(i)"
   ]
  },
  {
   "cell_type": "markdown",
   "id": "3f3f0064",
   "metadata": {},
   "source": [
    "### Find odd and even numbers in a list of numbers"
   ]
  },
  {
   "cell_type": "code",
   "execution_count": null,
   "id": "29674fa7",
   "metadata": {},
   "outputs": [],
   "source": [
    "x=[100,2,3,455,7,19,20,23123,23]\n",
    "\n",
    "for i in range(len(x)):      #len(list) : return number of items from a list\n",
    "    \n",
    "    if x[i]%2 == 0:\n",
    "        print('even')\n",
    "    else:\n",
    "        print('odd')"
   ]
  },
  {
   "cell_type": "markdown",
   "id": "46327cc3",
   "metadata": {},
   "source": [
    "### For Loops through items\n",
    "    Loop using its actual value of a list instead of its index.\n",
    "    List = ['name_1','name_2','name_3']\n",
    "    index      0        1         2"
   ]
  },
  {
   "cell_type": "code",
   "execution_count": null,
   "id": "bf63eb3e",
   "metadata": {},
   "outputs": [],
   "source": [
    "drinks = ['cola','fanta','sprite','finto']\n",
    "\n",
    "for drink in range(len(drinks)):\n",
    "    print(drink)\n",
    "\n",
    "for drink in drinks:\n",
    "    print(drink)"
   ]
  },
  {
   "cell_type": "code",
   "execution_count": null,
   "id": "2b86c15c",
   "metadata": {},
   "outputs": [],
   "source": [
    "for drink in drinks:\n",
    "    \n",
    "    if drink == 'finto':\n",
    "        print('ahh, my favorite drink :)')\n",
    "    else:\n",
    "        print('soda')"
   ]
  },
  {
   "cell_type": "code",
   "execution_count": null,
   "id": "8a228dc4",
   "metadata": {},
   "outputs": [],
   "source": [
    "for i in range(len(drinks)):\n",
    "    \n",
    "    if drinks[i] == 'finto':\n",
    "        print('ahh, my favorite drink :)')\n",
    "    else:\n",
    "        print('soda')"
   ]
  },
  {
   "cell_type": "markdown",
   "id": "a087e132",
   "metadata": {},
   "source": [
    "### Python loop using while.\n",
    "\n",
    "    while condition == True:\n",
    "        do this"
   ]
  },
  {
   "cell_type": "code",
   "execution_count": null,
   "id": "f77ec527",
   "metadata": {},
   "outputs": [],
   "source": [
    "loop_condition = True\n",
    "\n",
    "while loop_condition:\n",
    "    keyword = input('Enter the keyword to break the infinity loop :')\n",
    "    \n",
    "    if keyword == 'please stop':\n",
    "        print('Congratulations, you break the loop :)')\n",
    "        loop_condition = False    \n",
    "    else: \n",
    "        print('Wrong, youre trapped')"
   ]
  },
  {
   "cell_type": "markdown",
   "id": "57d35dd9",
   "metadata": {},
   "source": [
    "# Function in Python\n",
    "\n",
    "### Function\n",
    "    Function is a block of code which only runs when it is called. \n",
    "    You can pass data into a function (parameters).\n",
    "    \n",
    "    def function_name(params):\n",
    "    statement"
   ]
  },
  {
   "cell_type": "markdown",
   "id": "33731fa3",
   "metadata": {},
   "source": [
    "### Example of function\n",
    "    "
   ]
  },
  {
   "cell_type": "code",
   "execution_count": null,
   "id": "237346ad",
   "metadata": {},
   "outputs": [],
   "source": [
    "def my_function():\n",
    "    print(\"Print something when function is called\")"
   ]
  },
  {
   "cell_type": "markdown",
   "id": "6ca55602",
   "metadata": {},
   "source": [
    "### Call the function "
   ]
  },
  {
   "cell_type": "code",
   "execution_count": null,
   "id": "f50ec7e0",
   "metadata": {},
   "outputs": [],
   "source": [
    "my_function()"
   ]
  },
  {
   "cell_type": "markdown",
   "id": "5c9b8398",
   "metadata": {},
   "source": [
    "### Example of function with a parameter "
   ]
  },
  {
   "cell_type": "code",
   "execution_count": null,
   "id": "657e81da",
   "metadata": {},
   "outputs": [],
   "source": [
    "def function_with_params(x):\n",
    "    print(\"Function parameter is :\", x)"
   ]
  },
  {
   "cell_type": "markdown",
   "id": "37abaa1c",
   "metadata": {},
   "source": [
    "### Call the function \n",
    "    Try to replace the #replace_me with any numbers or string"
   ]
  },
  {
   "cell_type": "code",
   "execution_count": null,
   "id": "a511e1d5",
   "metadata": {},
   "outputs": [],
   "source": [
    "function_with_params(200)"
   ]
  },
  {
   "cell_type": "markdown",
   "id": "d9c435f8",
   "metadata": {},
   "source": [
    "###  Define several functions with different block of code"
   ]
  },
  {
   "cell_type": "code",
   "execution_count": null,
   "id": "2f048799",
   "metadata": {},
   "outputs": [],
   "source": [
    "def do_something():\n",
    "    return print(\"A Forced hello :)\")\n",
    "\n",
    "def plus5(number):\n",
    "    result = number + 5\n",
    "    return result\n",
    "\n",
    "def minus5(number):\n",
    "    result = number - 5\n",
    "    return result\n",
    "\n",
    "def multiply(x,y):\n",
    "    result = x*y\n",
    "    return result\n",
    "\n",
    "def divide(x,y):\n",
    "    result = x/y\n",
    "    return result"
   ]
  },
  {
   "cell_type": "markdown",
   "id": "f1e364e4",
   "metadata": {},
   "source": [
    "### Now, try to call any function above\n",
    "    Do not forget to pass the parameter to the functions with parameters."
   ]
  },
  {
   "cell_type": "code",
   "execution_count": null,
   "id": "d99cc2cf",
   "metadata": {},
   "outputs": [],
   "source": [
    "plus5()"
   ]
  },
  {
   "cell_type": "markdown",
   "id": "86669b77",
   "metadata": {},
   "source": [
    "# Global and Local Variable\n",
    "### Global Variable\n",
    "    Is a variables defined outside of a function.\n",
    "    Global variables are accesible throughout the program body, wether it is inside or outside of a function.\n",
    "### Local Variable\n",
    "    Is a variables defined inside of a function, means it have local scope.\n",
    "    Local variables only accesible through a function in which they are declared"
   ]
  },
  {
   "cell_type": "code",
   "execution_count": null,
   "id": "a46bb297",
   "metadata": {},
   "outputs": [],
   "source": [
    "number = 5      \n",
    "names = 'Gheo'\n",
    "\n",
    "def function_test():\n",
    "    local_number = 200\n",
    "    return number\n",
    "\n",
    "def function1(x):\n",
    "    #global names\n",
    "    \n",
    "    number = 7\n",
    "    names = 'Rahmat'\n",
    "    print(number,names)\n",
    "    if x==number:\n",
    "        return(print('Its a same Number'))\n",
    "    \n",
    "def function2():\n",
    "    number = 10\n",
    "    print(number)"
   ]
  },
  {
   "cell_type": "code",
   "execution_count": null,
   "id": "dbedd0b1",
   "metadata": {},
   "outputs": [],
   "source": [
    "#function1(6)\n",
    "\n",
    "print(number)\n",
    "function2()"
   ]
  },
  {
   "cell_type": "markdown",
   "id": "84f86cbf",
   "metadata": {},
   "source": [
    "# Classes and Objects\n",
    "### Class \n",
    "    Blueprint of how something should be defined.\n",
    "### Object\n",
    "    Is an instance of a class. Cope of the class with its actual values.\n",
    "### Attributes\n",
    "    Properties of an object created by the class.\n",
    "### Method\n",
    "    Function which acts as a behavior and action of an object by the class.\n",
    "### __init__ method\n",
    "    __init__ sets the initial state of the object everytime the object of a class is created. By assigning the values of the object's properties.\n",
    "### Self\n",
    "    Represent the instance of a class. Allowing users to access the attributes and methods of that class in Pyhton.\n",
    "    \n",
    "\n",
    "    \n",
    "### Example\n",
    "    Create a class of cat.\n",
    "    Create an object using that class.\n",
    "    Use class method of the object."
   ]
  },
  {
   "cell_type": "code",
   "execution_count": null,
   "id": "c64a0f22",
   "metadata": {},
   "outputs": [],
   "source": [
    "class cat:\n",
    "    def __init__(self, name, color, breed):\n",
    "        self.name = name\n",
    "        self.color = color\n",
    "        self.breed = breed\n",
    "    \n",
    "    def speak(self):\n",
    "        return f\"Henlow my name is {self.name}\""
   ]
  },
  {
   "cell_type": "code",
   "execution_count": null,
   "id": "83d3ba7d",
   "metadata": {},
   "outputs": [],
   "source": [
    "puci = cat('puci', 'putih', 'domestik')"
   ]
  },
  {
   "cell_type": "code",
   "execution_count": null,
   "id": "40f116eb",
   "metadata": {},
   "outputs": [],
   "source": [
    "puci.speak()"
   ]
  },
  {
   "cell_type": "markdown",
   "id": "f1987939",
   "metadata": {},
   "source": [
    "### Example\n",
    "    Creates a person class with name, occupation, and age as its attributes.\n",
    "    Define several functions that acts as the behavior and action of that person class."
   ]
  },
  {
   "cell_type": "code",
   "execution_count": null,
   "id": "87307b7f",
   "metadata": {},
   "outputs": [],
   "source": [
    "class person():\n",
    "    def __init__(self,name, occupation, age):\n",
    "        self.name = name\n",
    "        self.occupation = occupation\n",
    "        self.age = age\n",
    "        \n",
    "    def describe_information(self):\n",
    "        return f\"My Occupation is a {self.occupation} and I am {self.age} years old\"\n",
    "        \n",
    "    def speak(self):\n",
    "        return f\"Hello My name is {self.name}\"    \n",
    "    \n",
    "    def sleep(self):\n",
    "        print(\"ZzZzZzzzzzzzzz  .....\")\n",
    "        \n",
    "        "
   ]
  },
  {
   "cell_type": "markdown",
   "id": "a65e4476",
   "metadata": {},
   "source": [
    "### Create an object with the actual values of its attributes."
   ]
  },
  {
   "cell_type": "code",
   "execution_count": null,
   "id": "b37346bf",
   "metadata": {},
   "outputs": [],
   "source": [
    "Gheo = person(\"Gheo\", \"freelancer\", 17)"
   ]
  },
  {
   "cell_type": "markdown",
   "id": "86affb6a",
   "metadata": {},
   "source": [
    "### Try to use method of the object."
   ]
  },
  {
   "cell_type": "code",
   "execution_count": null,
   "id": "590c65f2",
   "metadata": {},
   "outputs": [],
   "source": [
    "Gheo.sleep()"
   ]
  },
  {
   "cell_type": "markdown",
   "id": "a7c43306",
   "metadata": {},
   "source": [
    "## Mini Project\n",
    "    Create a class car with name, type, and target. Target is defined with a number that declares the distance(in km) \n",
    "    for the car to reach its destination. Create several functions that act as a method that the car need to reach its destination and as a tool to display information about the car's journey."
   ]
  },
  {
   "cell_type": "code",
   "execution_count": null,
   "id": "9c7b3ec3",
   "metadata": {},
   "outputs": [],
   "source": [
    "class car():\n",
    "    def __init__(self, car_name, car_type, target):\n",
    "        self.car_name = car_name\n",
    "        self.car_type = car_type\n",
    "        self.distance_remaining = target\n",
    "        self.hour = 0\n",
    "    \n",
    "    def display_information(self):\n",
    "        print(\"Car Information :\" ,self.car_name, self.car_type, self.distance_remaining, self.hour) \n",
    "    \n",
    "    def define_speed(self):\n",
    "        if self.car_type == \"Small_Truck\":\n",
    "            self.speed = 30 #30 km per hour\n",
    "        elif self.car_type == \"Medium_Truck\":\n",
    "            self.speed = 40 #40 km per hour\n",
    "        elif self.car_type == \"Large_Truck\":\n",
    "            self.speed = 50 #50 km per hour\n",
    "            \n",
    "    def move_1_hour(self):\n",
    "        if self.distance_remaining > 0:\n",
    "            self.distance_remaining -= self.speed\n",
    "            self.hour += 1\n",
    "        else:\n",
    "            self.hour = self.hour\n",
    "    \n",
    "    def Reach_Target(self, hour):\n",
    "        self.define_speed()\n",
    "        self.move_1_hour()\n",
    "        self.display_information()\n",
    "        \n",
    "        \n",
    "        "
   ]
  },
  {
   "cell_type": "markdown",
   "id": "182c7709",
   "metadata": {},
   "source": [
    "### Create car object "
   ]
  },
  {
   "cell_type": "code",
   "execution_count": null,
   "id": "947b70fa",
   "metadata": {},
   "outputs": [],
   "source": [
    "mobil_butut = car(\"mobil_butut\",\"Large_Truck\", 200)"
   ]
  },
  {
   "cell_type": "markdown",
   "id": "cb1a840f",
   "metadata": {},
   "source": [
    "### Use the car's method to reach the destination and see total time needed for the car to reach its destination."
   ]
  },
  {
   "cell_type": "code",
   "execution_count": null,
   "id": "b8c806ad",
   "metadata": {},
   "outputs": [],
   "source": [
    "#Loop for several hours\n",
    "mobil_butut.display_information()\n",
    "\n",
    "hour = 10\n",
    "\n",
    "for i in range(hour):\n",
    "    mobil_butut.Reach_Target(hour)"
   ]
  },
  {
   "cell_type": "code",
   "execution_count": null,
   "id": "a4d63939",
   "metadata": {},
   "outputs": [],
   "source": []
  }
 ],
 "metadata": {
  "kernelspec": {
   "display_name": "Python 3",
   "language": "python",
   "name": "python3"
  },
  "language_info": {
   "codemirror_mode": {
    "name": "ipython",
    "version": 3
   },
   "file_extension": ".py",
   "mimetype": "text/x-python",
   "name": "python",
   "nbconvert_exporter": "python",
   "pygments_lexer": "ipython3",
   "version": "3.8.8"
  }
 },
 "nbformat": 4,
 "nbformat_minor": 5
}
